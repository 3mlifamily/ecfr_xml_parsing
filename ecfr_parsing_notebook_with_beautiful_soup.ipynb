{
 "cells": [
  {
   "cell_type": "code",
   "execution_count": 1,
   "metadata": {},
   "outputs": [],
   "source": [
    "import pandas as pd\n",
    "import requests\n",
    "import re\n",
    "\n",
    "#importing Pandas to create a DataFrame, requests to send requests, and re to work with regular expressions"
   ]
  },
  {
   "cell_type": "markdown",
   "metadata": {},
   "source": [
    "The sectioning of content is managed through the use of <DIV#> elements, where # represents a digit such as 1, 2, 3, etc. Below is the tag key for the elements we will access:\n",
    "- DIV3 => TYPE=\"CHAPTER\"\n",
    "- DIV4 => TYPE=\"SUBCHAP\"\n",
    "- DIV5 => TYPE=\"PART\"\n",
    "- DIV8 => TYPE=\"SECTION\"\n",
    "\n",
    "[tag key source](https://github.com/usgpo/bulk-data/blob/master/ECFR-XML-User-Guide.md)"
   ]
  },
  {
   "cell_type": "markdown",
   "metadata": {},
   "source": [
    "# Beatiful Soup"
   ]
  },
  {
   "cell_type": "code",
   "execution_count": 2,
   "metadata": {},
   "outputs": [],
   "source": [
    "from bs4 import BeautifulSoup as bs  #importing BeautifulSoup for parsing"
   ]
  },
  {
   "cell_type": "code",
   "execution_count": 3,
   "metadata": {},
   "outputs": [],
   "source": [
    "xml_bs = requests.get('https://www.govinfo.gov/bulkdata/ECFR/title-16/ECFR-title16.xml')\n",
    "#sending a GET request to the specified URL to retrieve its data\n",
    "\n",
    "soup = bs(xml_bs.content, 'xml')\n",
    "#saving my data as a BeautifulSoup object, which represents it as a nested data structure"
   ]
  },
  {
   "cell_type": "code",
   "execution_count": 4,
   "metadata": {},
   "outputs": [],
   "source": [
    "list_of_dicts_bs = []  #creating an empty list that I will iteratively append results to               \n",
    " \n",
    "chapters_bs = soup.find_all('DIV3')                              #finding & saving all DIV3 elements in the soup object\n",
    "for chapter_bs in chapters_bs:                                   #looping through the chapters_bs object\n",
    "    chapter_num_bs = chapter_bs.attrs['N']                       #finding & saving all DIV3 attributes that are N\n",
    "    chapter_title_bs = chapter_bs.find('HEAD').text              #finding & saving the text of the HEAD tags\n",
    "\n",
    "    subchapters_bs = chapter_bs.find_all('DIV4')                 #finding & saving all DIV4 elements in chapter_bs\n",
    "    for subchapter_bs in subchapters_bs:                         #looping through the subchapters_bs object\n",
    "        subchapter_num_bs = subchapter_bs.attrs['N']             #finding & saving all DIV4 attributes that are 'N'\n",
    "        subchapter_title_bs = subchapter_bs.find('HEAD').text    #finding & saving the text of the HEAD tags\n",
    "\n",
    "        parts_bs = subchapter_bs.find_all('DIV5')                #finding & saving all DIV5 elements in subchapter_bs\n",
    "        for part_bs in parts_bs:                                 #looping through the parts_bs object\n",
    "            part_num_bs = part_bs.attrs['N']                     #finding & saving all DIV5 attributes that are N\n",
    "            part_title_bs = part_bs.find('HEAD').text            #finding & saving the text of the HEAD tags\n",
    "\n",
    "            sections_bs = part_bs.find_all('DIV8')               #finding & saving all DIV8 elements in the part_bs object \n",
    "            for section_bs in sections_bs:                       #looping through the sections_bs object\n",
    "                section_num_bs = section_bs.attrs['N'][2:]       #finding & saving all DIV8 attributes that are N\n",
    "                section_title_bs = section_bs.find('HEAD').text  #finding & saving the text of the HEAD tags\n",
    "                section_text_bs = section_bs.find_all('P')       #finding & saving all the content of P tags\n",
    "\n",
    "                list_of_dicts_bs.append({'chapter': chapter_num_bs, 'chapter_title': chapter_title_bs,\n",
    "                                      'subchapter': subchapter_num_bs, 'subchapter_title': subchapter_title_bs, \n",
    "                                      'part': part_num_bs, 'part_title': part_title_bs, 'section': section_num_bs, \n",
    "                                      'section_title': section_title_bs, 'section_text': str(section_text_bs)})\n",
    "                #appending my results to a dictionary at the section-level"
   ]
  },
  {
   "cell_type": "code",
   "execution_count": 5,
   "metadata": {},
   "outputs": [],
   "source": [
    "df_bs = pd.DataFrame(data=list_of_dicts_bs, \n",
    "                     columns=['chapter', 'chapter_title', 'subchapter', 'subchapter_title', \n",
    "                              'part', 'part_title', 'section', 'section_title', 'section_text'])\n",
    "#saving my results to a Pandas DataFrame & specifying the columns to enforce the order I want"
   ]
  },
  {
   "cell_type": "code",
   "execution_count": 6,
   "metadata": {},
   "outputs": [],
   "source": [
    "for col in df_bs.columns:\n",
    "    df_bs[col] = df_bs[col].str.strip()  #looping through my columns to strip any leading/trailing whitespace\n",
    "\n",
    "regex_bs = \"\\[+|\\]+|<[A-Z]+>+|<\\/[A-Z]+>+|\\\\n+\"  #regular expression that matches on xml tags/ASCII characters\n",
    "df_bs.section_text = df_bs.section_text.str.replace(regex_bs, '')  #replacing any matches on regex_bs with nothing "
   ]
  },
  {
   "cell_type": "code",
   "execution_count": 7,
   "metadata": {},
   "outputs": [
    {
     "data": {
      "text/html": [
       "<div>\n",
       "<style scoped>\n",
       "    .dataframe tbody tr th:only-of-type {\n",
       "        vertical-align: middle;\n",
       "    }\n",
       "\n",
       "    .dataframe tbody tr th {\n",
       "        vertical-align: top;\n",
       "    }\n",
       "\n",
       "    .dataframe thead th {\n",
       "        text-align: right;\n",
       "    }\n",
       "</style>\n",
       "<table border=\"1\" class=\"dataframe\">\n",
       "  <thead>\n",
       "    <tr style=\"text-align: right;\">\n",
       "      <th></th>\n",
       "      <th>chapter</th>\n",
       "      <th>chapter_title</th>\n",
       "      <th>subchapter</th>\n",
       "      <th>subchapter_title</th>\n",
       "      <th>part</th>\n",
       "      <th>part_title</th>\n",
       "      <th>section</th>\n",
       "      <th>section_title</th>\n",
       "      <th>section_text</th>\n",
       "    </tr>\n",
       "  </thead>\n",
       "  <tbody>\n",
       "    <tr>\n",
       "      <th>0</th>\n",
       "      <td>I</td>\n",
       "      <td>CHAPTER I - FEDERAL TRADE COMMISSION</td>\n",
       "      <td>A</td>\n",
       "      <td>SUBCHAPTER A - ORGANIZATION, PROCEDURES AND RU...</td>\n",
       "      <td>0</td>\n",
       "      <td>PART 0 - ORGANIZATION</td>\n",
       "      <td>0.1</td>\n",
       "      <td>§ 0.1   The Commission.</td>\n",
       "      <td>The Federal Trade Commission is an independent...</td>\n",
       "    </tr>\n",
       "    <tr>\n",
       "      <th>1</th>\n",
       "      <td>I</td>\n",
       "      <td>CHAPTER I - FEDERAL TRADE COMMISSION</td>\n",
       "      <td>A</td>\n",
       "      <td>SUBCHAPTER A - ORGANIZATION, PROCEDURES AND RU...</td>\n",
       "      <td>0</td>\n",
       "      <td>PART 0 - ORGANIZATION</td>\n",
       "      <td>0.2</td>\n",
       "      <td>§ 0.2   Official address.</td>\n",
       "      <td>The principal office of the Commission is at W...</td>\n",
       "    </tr>\n",
       "    <tr>\n",
       "      <th>2</th>\n",
       "      <td>I</td>\n",
       "      <td>CHAPTER I - FEDERAL TRADE COMMISSION</td>\n",
       "      <td>A</td>\n",
       "      <td>SUBCHAPTER A - ORGANIZATION, PROCEDURES AND RU...</td>\n",
       "      <td>0</td>\n",
       "      <td>PART 0 - ORGANIZATION</td>\n",
       "      <td>0.3</td>\n",
       "      <td>§ 0.3   Hours.</td>\n",
       "      <td>Principal and field offices are open on each b...</td>\n",
       "    </tr>\n",
       "    <tr>\n",
       "      <th>3</th>\n",
       "      <td>I</td>\n",
       "      <td>CHAPTER I - FEDERAL TRADE COMMISSION</td>\n",
       "      <td>A</td>\n",
       "      <td>SUBCHAPTER A - ORGANIZATION, PROCEDURES AND RU...</td>\n",
       "      <td>0</td>\n",
       "      <td>PART 0 - ORGANIZATION</td>\n",
       "      <td>0.4</td>\n",
       "      <td>§ 0.4   Laws administered.</td>\n",
       "      <td>The Commission exercises enforcement and admin...</td>\n",
       "    </tr>\n",
       "    <tr>\n",
       "      <th>4</th>\n",
       "      <td>I</td>\n",
       "      <td>CHAPTER I - FEDERAL TRADE COMMISSION</td>\n",
       "      <td>A</td>\n",
       "      <td>SUBCHAPTER A - ORGANIZATION, PROCEDURES AND RU...</td>\n",
       "      <td>0</td>\n",
       "      <td>PART 0 - ORGANIZATION</td>\n",
       "      <td>0.5</td>\n",
       "      <td>§ 0.5   Laws authorizing monetary claims.</td>\n",
       "      <td>The Commission is authorized to entertain mone...</td>\n",
       "    </tr>\n",
       "  </tbody>\n",
       "</table>\n",
       "</div>"
      ],
      "text/plain": [
       "  chapter                         chapter_title subchapter  \\\n",
       "0       I  CHAPTER I - FEDERAL TRADE COMMISSION          A   \n",
       "1       I  CHAPTER I - FEDERAL TRADE COMMISSION          A   \n",
       "2       I  CHAPTER I - FEDERAL TRADE COMMISSION          A   \n",
       "3       I  CHAPTER I - FEDERAL TRADE COMMISSION          A   \n",
       "4       I  CHAPTER I - FEDERAL TRADE COMMISSION          A   \n",
       "\n",
       "                                    subchapter_title part  \\\n",
       "0  SUBCHAPTER A - ORGANIZATION, PROCEDURES AND RU...    0   \n",
       "1  SUBCHAPTER A - ORGANIZATION, PROCEDURES AND RU...    0   \n",
       "2  SUBCHAPTER A - ORGANIZATION, PROCEDURES AND RU...    0   \n",
       "3  SUBCHAPTER A - ORGANIZATION, PROCEDURES AND RU...    0   \n",
       "4  SUBCHAPTER A - ORGANIZATION, PROCEDURES AND RU...    0   \n",
       "\n",
       "              part_title section                              section_title  \\\n",
       "0  PART 0 - ORGANIZATION     0.1                    § 0.1   The Commission.   \n",
       "1  PART 0 - ORGANIZATION     0.2                  § 0.2   Official address.   \n",
       "2  PART 0 - ORGANIZATION     0.3                             § 0.3   Hours.   \n",
       "3  PART 0 - ORGANIZATION     0.4                 § 0.4   Laws administered.   \n",
       "4  PART 0 - ORGANIZATION     0.5  § 0.5   Laws authorizing monetary claims.   \n",
       "\n",
       "                                        section_text  \n",
       "0  The Federal Trade Commission is an independent...  \n",
       "1  The principal office of the Commission is at W...  \n",
       "2  Principal and field offices are open on each b...  \n",
       "3  The Commission exercises enforcement and admin...  \n",
       "4  The Commission is authorized to entertain mone...  "
      ]
     },
     "execution_count": 7,
     "metadata": {},
     "output_type": "execute_result"
    }
   ],
   "source": [
    "df_bs.head()  #returning the head (first 5 rows) of our final dataset"
   ]
  },
  {
   "cell_type": "code",
   "execution_count": 8,
   "metadata": {},
   "outputs": [
    {
     "name": "stdout",
     "output_type": "stream",
     "text": [
      "<class 'pandas.core.frame.DataFrame'>\n",
      "RangeIndex: 2026 entries, 0 to 2025\n",
      "Data columns (total 9 columns):\n",
      "chapter             2026 non-null object\n",
      "chapter_title       2026 non-null object\n",
      "subchapter          2026 non-null object\n",
      "subchapter_title    2026 non-null object\n",
      "part                2026 non-null object\n",
      "part_title          2026 non-null object\n",
      "section             2026 non-null object\n",
      "section_title       2026 non-null object\n",
      "section_text        2026 non-null object\n",
      "dtypes: object(9)\n",
      "memory usage: 142.5+ KB\n"
     ]
    }
   ],
   "source": [
    "df_bs.info()  #printing info about my dataset: number of columns & rows, column dtypes, non-null values, memory usage, etc."
   ]
  },
  {
   "cell_type": "markdown",
   "metadata": {},
   "source": [
    "# ElementTree"
   ]
  },
  {
   "cell_type": "code",
   "execution_count": 9,
   "metadata": {},
   "outputs": [],
   "source": [
    "import xml.etree.ElementTree as et  #importing ElementTree for parsing"
   ]
  },
  {
   "cell_type": "code",
   "execution_count": 10,
   "metadata": {},
   "outputs": [],
   "source": [
    "xml_et = requests.get('https://www.govinfo.gov/bulkdata/ECFR/title-16/ECFR-title16.xml')\n",
    "#sending a GET request to the specified URL to retrieve its data\n",
    "\n",
    "root = et.fromstring(xml_et.content)\n",
    "#fromstring() parses the XML from my response content into an Element, which is the root element of the parsed tree"
   ]
  },
  {
   "cell_type": "code",
   "execution_count": 11,
   "metadata": {},
   "outputs": [],
   "source": [
    "list_of_dicts_et = []  #creating an empty list that I will iteratively append results to               \n",
    " \n",
    "chapters_et = root.iter('DIV3')                                  #finding & saving all DIV3 elements in the soup object\n",
    "for chapter_et in chapters_et:                                   #looping through the chapters_et object\n",
    "    chapter_num_et = chapter_et.attrib['N']                      #finding & saving all DIV3 attributes that are N\n",
    "    chapter_title_et = chapter_et.find('HEAD').text              #finding & saving the text of the HEAD tags\n",
    "\n",
    "    subchapters_et = chapter_et.iter('DIV4')                     #finding & saving all DIV4 elements in chapter_et\n",
    "    for subchapter_et in subchapters_et:                         #looping through the subchapters_et object\n",
    "        subchapter_num_et = subchapter_et.attrib['N']            #finding & saving all DIV4 attributes that are 'N'\n",
    "        subchapter_title_et = subchapter_et.find('HEAD').text    #finding & saving the text of the HEAD tags\n",
    "\n",
    "        parts_et = subchapter_et.iter('DIV5')                    #finding & saving all DIV5 elements in subchapter_et\n",
    "        for part_et in parts_et:                                 #looping through the parts_et object\n",
    "            part_num_et = part_et.attrib['N']                    #finding & saving all DIV5 attributes that are N\n",
    "            part_title_et = part_et.find('HEAD').text            #finding & saving the text of the HEAD tags\n",
    "\n",
    "            sections_et = part_et.iter('DIV8')                   #finding & saving all DIV8 elements in the part_et object \n",
    "            for section_et in sections_et:                       #looping through the sections_et object\n",
    "                section_num_et = section_et.attrib['N'][2:]      #finding & saving all DIV8 attributes that are N\n",
    "                section_title_et = section_et.find('HEAD').text  #finding & saving the text of the HEAD tags\n",
    "                for p in section_et.findall('P'):                #looping through section_et object\n",
    "                    section_text_et = p.text                     #finding & saving all the text of the P tags\n",
    "\n",
    "                list_of_dicts_et.append({'chapter': chapter_num_et, 'chapter_title': chapter_title_et,\n",
    "                                      'subchapter': subchapter_num_et, 'subchapter_title': subchapter_title_et, \n",
    "                                      'part': part_num_et, 'part_title': part_title_et, 'section': section_num_et, \n",
    "                                      'section_title': section_title_et, 'section_text': str(section_text_et)})\n",
    "                #appending my results to a dictionary at the section-level"
   ]
  },
  {
   "cell_type": "code",
   "execution_count": 12,
   "metadata": {},
   "outputs": [],
   "source": [
    "df_et = pd.DataFrame(data=list_of_dicts_et, \n",
    "                     columns=['chapter', 'chapter_title', 'subchapter', 'subchapter_title', \n",
    "                              'part', 'part_title', 'section', 'section_title', 'section_text'])\n",
    "#saving my results to a Pandas DataFrame & specifying the columns to enforce the order I want"
   ]
  },
  {
   "cell_type": "code",
   "execution_count": 13,
   "metadata": {},
   "outputs": [],
   "source": [
    "for col in df_et.columns:\n",
    "    df_et[col] = df_et[col].str.strip()  #looping through my columns to strip any leading/trailing whitespace\n",
    "\n",
    "regex_et = \"\\[+|\\]+|<[A-Z]+>+|<\\/[A-Z]+>+|\\\\n+\"  #regular expression that matches on xml tags/ASCII characters\n",
    "df_et.section_text = df_et.section_text.str.replace(regex_et, '')  #replacing any matches of regex_et with nothing "
   ]
  },
  {
   "cell_type": "code",
   "execution_count": 14,
   "metadata": {},
   "outputs": [
    {
     "data": {
      "text/html": [
       "<div>\n",
       "<style scoped>\n",
       "    .dataframe tbody tr th:only-of-type {\n",
       "        vertical-align: middle;\n",
       "    }\n",
       "\n",
       "    .dataframe tbody tr th {\n",
       "        vertical-align: top;\n",
       "    }\n",
       "\n",
       "    .dataframe thead th {\n",
       "        text-align: right;\n",
       "    }\n",
       "</style>\n",
       "<table border=\"1\" class=\"dataframe\">\n",
       "  <thead>\n",
       "    <tr style=\"text-align: right;\">\n",
       "      <th></th>\n",
       "      <th>chapter</th>\n",
       "      <th>chapter_title</th>\n",
       "      <th>subchapter</th>\n",
       "      <th>subchapter_title</th>\n",
       "      <th>part</th>\n",
       "      <th>part_title</th>\n",
       "      <th>section</th>\n",
       "      <th>section_title</th>\n",
       "      <th>section_text</th>\n",
       "    </tr>\n",
       "  </thead>\n",
       "  <tbody>\n",
       "    <tr>\n",
       "      <th>0</th>\n",
       "      <td>I</td>\n",
       "      <td>CHAPTER I - FEDERAL TRADE COMMISSION</td>\n",
       "      <td>A</td>\n",
       "      <td>SUBCHAPTER A - ORGANIZATION, PROCEDURES AND RU...</td>\n",
       "      <td>0</td>\n",
       "      <td>PART 0 - ORGANIZATION</td>\n",
       "      <td>0.1</td>\n",
       "      <td>§ 0.1   The Commission.</td>\n",
       "      <td>The Federal Trade Commission is an independent...</td>\n",
       "    </tr>\n",
       "    <tr>\n",
       "      <th>1</th>\n",
       "      <td>I</td>\n",
       "      <td>CHAPTER I - FEDERAL TRADE COMMISSION</td>\n",
       "      <td>A</td>\n",
       "      <td>SUBCHAPTER A - ORGANIZATION, PROCEDURES AND RU...</td>\n",
       "      <td>0</td>\n",
       "      <td>PART 0 - ORGANIZATION</td>\n",
       "      <td>0.2</td>\n",
       "      <td>§ 0.2   Official address.</td>\n",
       "      <td>The principal office of the Commission is at W...</td>\n",
       "    </tr>\n",
       "    <tr>\n",
       "      <th>2</th>\n",
       "      <td>I</td>\n",
       "      <td>CHAPTER I - FEDERAL TRADE COMMISSION</td>\n",
       "      <td>A</td>\n",
       "      <td>SUBCHAPTER A - ORGANIZATION, PROCEDURES AND RU...</td>\n",
       "      <td>0</td>\n",
       "      <td>PART 0 - ORGANIZATION</td>\n",
       "      <td>0.3</td>\n",
       "      <td>§ 0.3   Hours.</td>\n",
       "      <td>Principal and field offices are open on each b...</td>\n",
       "    </tr>\n",
       "    <tr>\n",
       "      <th>3</th>\n",
       "      <td>I</td>\n",
       "      <td>CHAPTER I - FEDERAL TRADE COMMISSION</td>\n",
       "      <td>A</td>\n",
       "      <td>SUBCHAPTER A - ORGANIZATION, PROCEDURES AND RU...</td>\n",
       "      <td>0</td>\n",
       "      <td>PART 0 - ORGANIZATION</td>\n",
       "      <td>0.4</td>\n",
       "      <td>§ 0.4   Laws administered.</td>\n",
       "      <td>The Commission exercises enforcement and admin...</td>\n",
       "    </tr>\n",
       "    <tr>\n",
       "      <th>4</th>\n",
       "      <td>I</td>\n",
       "      <td>CHAPTER I - FEDERAL TRADE COMMISSION</td>\n",
       "      <td>A</td>\n",
       "      <td>SUBCHAPTER A - ORGANIZATION, PROCEDURES AND RU...</td>\n",
       "      <td>0</td>\n",
       "      <td>PART 0 - ORGANIZATION</td>\n",
       "      <td>0.5</td>\n",
       "      <td>§ 0.5   Laws authorizing monetary claims.</td>\n",
       "      <td>The Commission is authorized to entertain mone...</td>\n",
       "    </tr>\n",
       "  </tbody>\n",
       "</table>\n",
       "</div>"
      ],
      "text/plain": [
       "  chapter                         chapter_title subchapter  \\\n",
       "0       I  CHAPTER I - FEDERAL TRADE COMMISSION          A   \n",
       "1       I  CHAPTER I - FEDERAL TRADE COMMISSION          A   \n",
       "2       I  CHAPTER I - FEDERAL TRADE COMMISSION          A   \n",
       "3       I  CHAPTER I - FEDERAL TRADE COMMISSION          A   \n",
       "4       I  CHAPTER I - FEDERAL TRADE COMMISSION          A   \n",
       "\n",
       "                                    subchapter_title part  \\\n",
       "0  SUBCHAPTER A - ORGANIZATION, PROCEDURES AND RU...    0   \n",
       "1  SUBCHAPTER A - ORGANIZATION, PROCEDURES AND RU...    0   \n",
       "2  SUBCHAPTER A - ORGANIZATION, PROCEDURES AND RU...    0   \n",
       "3  SUBCHAPTER A - ORGANIZATION, PROCEDURES AND RU...    0   \n",
       "4  SUBCHAPTER A - ORGANIZATION, PROCEDURES AND RU...    0   \n",
       "\n",
       "              part_title section                              section_title  \\\n",
       "0  PART 0 - ORGANIZATION     0.1                    § 0.1   The Commission.   \n",
       "1  PART 0 - ORGANIZATION     0.2                  § 0.2   Official address.   \n",
       "2  PART 0 - ORGANIZATION     0.3                             § 0.3   Hours.   \n",
       "3  PART 0 - ORGANIZATION     0.4                 § 0.4   Laws administered.   \n",
       "4  PART 0 - ORGANIZATION     0.5  § 0.5   Laws authorizing monetary claims.   \n",
       "\n",
       "                                        section_text  \n",
       "0  The Federal Trade Commission is an independent...  \n",
       "1  The principal office of the Commission is at W...  \n",
       "2  Principal and field offices are open on each b...  \n",
       "3  The Commission exercises enforcement and admin...  \n",
       "4  The Commission is authorized to entertain mone...  "
      ]
     },
     "execution_count": 14,
     "metadata": {},
     "output_type": "execute_result"
    }
   ],
   "source": [
    "df_et.head()  #returning the head (first 5 rows) of our final dataset"
   ]
  },
  {
   "cell_type": "code",
   "execution_count": 15,
   "metadata": {},
   "outputs": [
    {
     "name": "stdout",
     "output_type": "stream",
     "text": [
      "<class 'pandas.core.frame.DataFrame'>\n",
      "RangeIndex: 2026 entries, 0 to 2025\n",
      "Data columns (total 9 columns):\n",
      "chapter             2026 non-null object\n",
      "chapter_title       2026 non-null object\n",
      "subchapter          2026 non-null object\n",
      "subchapter_title    2026 non-null object\n",
      "part                2026 non-null object\n",
      "part_title          2026 non-null object\n",
      "section             2026 non-null object\n",
      "section_title       2026 non-null object\n",
      "section_text        2026 non-null object\n",
      "dtypes: object(9)\n",
      "memory usage: 142.5+ KB\n"
     ]
    }
   ],
   "source": [
    "df_et.info()  #printing info about my dataset: number of columns & rows, column dtypes, non-null values, memory usage, etc."
   ]
  },
  {
   "cell_type": "code",
   "execution_count": null,
   "metadata": {},
   "outputs": [],
   "source": []
  }
 ],
 "metadata": {
  "kernelspec": {
   "display_name": "Python 3",
   "language": "python",
   "name": "python3"
  },
  "language_info": {
   "codemirror_mode": {
    "name": "ipython",
    "version": 3
   },
   "file_extension": ".py",
   "mimetype": "text/x-python",
   "name": "python",
   "nbconvert_exporter": "python",
   "pygments_lexer": "ipython3",
   "version": "3.7.1"
  }
 },
 "nbformat": 4,
 "nbformat_minor": 2
}
